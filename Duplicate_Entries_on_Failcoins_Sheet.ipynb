{
  "nbformat": 4,
  "nbformat_minor": 0,
  "metadata": {
    "colab": {
      "provenance": []
    },
    "kernelspec": {
      "name": "python3",
      "display_name": "Python 3"
    },
    "language_info": {
      "name": "python"
    }
  },
  "cells": [
    {
      "cell_type": "code",
      "source": [
        "!pip install openpyxl xlrd"
      ],
      "metadata": {
        "colab": {
          "base_uri": "https://localhost:8080/"
        },
        "id": "JDbXNi-TACSh",
        "outputId": "efc9be9f-a1fa-4d2d-98e2-dc1ba7dd3261"
      },
      "execution_count": 4,
      "outputs": [
        {
          "output_type": "stream",
          "name": "stdout",
          "text": [
            "Requirement already satisfied: openpyxl in /usr/local/lib/python3.10/dist-packages (3.1.5)\n",
            "Requirement already satisfied: xlrd in /usr/local/lib/python3.10/dist-packages (2.0.1)\n",
            "Requirement already satisfied: et-xmlfile in /usr/local/lib/python3.10/dist-packages (from openpyxl) (2.0.0)\n"
          ]
        }
      ]
    },
    {
      "cell_type": "code",
      "source": [
        "!pip install xlrd"
      ],
      "metadata": {
        "colab": {
          "base_uri": "https://localhost:8080/"
        },
        "id": "tmJw6zx6AdIu",
        "outputId": "6eefdf68-4779-416c-a3dc-1105186e0e54"
      },
      "execution_count": 5,
      "outputs": [
        {
          "output_type": "stream",
          "name": "stdout",
          "text": [
            "Requirement already satisfied: xlrd in /usr/local/lib/python3.10/dist-packages (2.0.1)\n"
          ]
        }
      ]
    },
    {
      "cell_type": "code",
      "source": [
        "import pandas as pd\n",
        "\n",
        "# Load the csv file\n",
        "file_path = 'PATH TO FILE ON GOOGLE COLAB'  # Replace with your Excel file's path\n",
        "sheet_name = 'PATH TO SHEET'  # Replace with your sheet name if necessary\n",
        "\n",
        "# Explicitly specify the engine\n",
        "df = pd.read_csv(sheet_name) # or engine='xlrd' for older .xls files\n",
        "\n",
        "\n",
        "# Identify duplicates\n",
        "# Subset specific columns if needed, e.g., `subset=['Column1', 'Column2']`\n",
        "duplicates = df[df.duplicated(keep=False)]  # `keep=False` marks all duplicates\n",
        "\n",
        "# Save duplicates to a new Excel file for review\n",
        "output_file = 'duplicates_found.csv'\n",
        "duplicates.to_csv(output_file, index=False)\n",
        "\n",
        "print(f\"Duplicates identified and saved to {output_file}\")"
      ],
      "metadata": {
        "colab": {
          "base_uri": "https://localhost:8080/"
        },
        "id": "L0G_hv1vAgzf",
        "outputId": "499aa06c-d6ba-47e4-f40a-2819584a594c"
      },
      "execution_count": 10,
      "outputs": [
        {
          "output_type": "stream",
          "name": "stdout",
          "text": [
            "Duplicates identified and saved to duplicates_found.csv\n"
          ]
        }
      ]
    }
  ]
}